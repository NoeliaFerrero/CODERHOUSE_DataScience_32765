{
  "nbformat": 4,
  "nbformat_minor": 0,
  "metadata": {
    "colab": {
      "provenance": [],
      "include_colab_link": true
    },
    "kernelspec": {
      "name": "python3",
      "display_name": "Python 3"
    },
    "language_info": {
      "name": "python"
    }
  },
  "cells": [
    {
      "cell_type": "markdown",
      "metadata": {
        "id": "view-in-github",
        "colab_type": "text"
      },
      "source": [
        "<a href=\"https://colab.research.google.com/github/NoeliaFerrero/CODERHOUSE_DataScience_32765/blob/main/Afterclass2.ipynb\" target=\"_parent\"><img src=\"https://colab.research.google.com/assets/colab-badge.svg\" alt=\"Open In Colab\"/></a>"
      ]
    },
    {
      "cell_type": "code",
      "execution_count": null,
      "metadata": {
        "colab": {
          "base_uri": "https://localhost:8080/"
        },
        "id": "xsODcEQHqXbt",
        "outputId": "bf6eaf45-8336-4fbb-f811-2513c5b87ee5"
      },
      "outputs": [
        {
          "output_type": "stream",
          "name": "stdout",
          "text": [
            "Drive already mounted at /content/gdrive; to attempt to forcibly remount, call drive.mount(\"/content/gdrive\", force_remount=True).\n"
          ]
        }
      ],
      "source": [
        "import pandas as pd\n",
        "import numpy as np\n",
        "import matplotlib as mpl\n",
        "import matplotlib.pyplot as plt \n",
        "\n",
        "from google.colab import drive\n",
        "drive.mount('/content/gdrive')"
      ]
    },
    {
      "cell_type": "code",
      "source": [
        "mpl.rc('axes', labelsize=16, titlesize=16) #aumentar tamaño de las etiquetas en ejes"
      ],
      "metadata": {
        "id": "Ld53Z1Nv8K0O"
      },
      "execution_count": null,
      "outputs": []
    },
    {
      "cell_type": "markdown",
      "source": [
        "# Repasemos como podemos analizar un dataframe: utilicemos como ejemplo nuestro dataset del titanic"
      ],
      "metadata": {
        "id": "G_Y145hhrA-8"
      }
    },
    {
      "cell_type": "markdown",
      "source": [
        "**Descripción del dataframe:** \n",
        "\n",
        "**Indice filas**: PassengerId -->id_pasajero\n",
        "\n",
        "**Columnas:**\n",
        "* Survived: sobreviviente? 1=Persona sobrevivió, 0= Persona falleció\n",
        "* Pclass: clase pasajero (Primera, segunda o tercera clase - 1,2,3)\n",
        "* Name: nombre pasajero\n",
        "* Sex: male=masculino, female=femenino\n",
        "* Age: edad\n",
        "* SibSp: número de hermanos y esposos a bordo\n",
        "* Parch: número de padres e hijos abordo\n",
        "* Ticket: numero ticket\n",
        "* Fare: precio pasaje\n",
        "* Cabin: cabina\n",
        "* Embarked : puerto de embarque. C = Cherbourg; Q = Queenstown; S = Southampton"
      ],
      "metadata": {
        "id": "7X1iUpRdx0L7"
      }
    },
    {
      "cell_type": "code",
      "source": [
        "#IMPORTANDO NUESTRO DATAFRAME\n",
        "\n",
        "df_titanic = pd.read_csv('https://raw.githubusercontent.com/NotAyushXD/Titanic-dataset/master/train.csv',\n",
        "                         index_col=0 ) # con index_col=0 le estamos diciendo que la primera columna es nuestro indice\n",
        "df_titanic\n",
        "\n",
        "df_titanic.head(5) #cuando tenemos dataframes grandes esta funcion dataframe.head() nos permite ver cierto numero de filas del inicio, en este caso 5"
      ],
      "metadata": {
        "colab": {
          "base_uri": "https://localhost:8080/",
          "height": 237
        },
        "id": "VqwGdXU5x7cN",
        "outputId": "dd3fb62b-1fb9-47ab-f753-7378bf84f44c"
      },
      "execution_count": null,
      "outputs": [
        {
          "output_type": "execute_result",
          "data": {
            "text/plain": [
              "             Survived  Pclass  \\\n",
              "PassengerId                     \n",
              "1                   0       3   \n",
              "2                   1       1   \n",
              "3                   1       3   \n",
              "4                   1       1   \n",
              "5                   0       3   \n",
              "\n",
              "                                                          Name     Sex   Age  \\\n",
              "PassengerId                                                                    \n",
              "1                                      Braund, Mr. Owen Harris    male  22.0   \n",
              "2            Cumings, Mrs. John Bradley (Florence Briggs Th...  female  38.0   \n",
              "3                                       Heikkinen, Miss. Laina  female  26.0   \n",
              "4                 Futrelle, Mrs. Jacques Heath (Lily May Peel)  female  35.0   \n",
              "5                                     Allen, Mr. William Henry    male  35.0   \n",
              "\n",
              "             SibSp  Parch            Ticket     Fare Cabin Embarked  \n",
              "PassengerId                                                          \n",
              "1                1      0         A/5 21171   7.2500   NaN        S  \n",
              "2                1      0          PC 17599  71.2833   C85        C  \n",
              "3                0      0  STON/O2. 3101282   7.9250   NaN        S  \n",
              "4                1      0            113803  53.1000  C123        S  \n",
              "5                0      0            373450   8.0500   NaN        S  "
            ],
            "text/html": [
              "\n",
              "  <div id=\"df-80b96b45-07d0-494b-a380-e5236c447776\">\n",
              "    <div class=\"colab-df-container\">\n",
              "      <div>\n",
              "<style scoped>\n",
              "    .dataframe tbody tr th:only-of-type {\n",
              "        vertical-align: middle;\n",
              "    }\n",
              "\n",
              "    .dataframe tbody tr th {\n",
              "        vertical-align: top;\n",
              "    }\n",
              "\n",
              "    .dataframe thead th {\n",
              "        text-align: right;\n",
              "    }\n",
              "</style>\n",
              "<table border=\"1\" class=\"dataframe\">\n",
              "  <thead>\n",
              "    <tr style=\"text-align: right;\">\n",
              "      <th></th>\n",
              "      <th>Survived</th>\n",
              "      <th>Pclass</th>\n",
              "      <th>Name</th>\n",
              "      <th>Sex</th>\n",
              "      <th>Age</th>\n",
              "      <th>SibSp</th>\n",
              "      <th>Parch</th>\n",
              "      <th>Ticket</th>\n",
              "      <th>Fare</th>\n",
              "      <th>Cabin</th>\n",
              "      <th>Embarked</th>\n",
              "    </tr>\n",
              "    <tr>\n",
              "      <th>PassengerId</th>\n",
              "      <th></th>\n",
              "      <th></th>\n",
              "      <th></th>\n",
              "      <th></th>\n",
              "      <th></th>\n",
              "      <th></th>\n",
              "      <th></th>\n",
              "      <th></th>\n",
              "      <th></th>\n",
              "      <th></th>\n",
              "      <th></th>\n",
              "    </tr>\n",
              "  </thead>\n",
              "  <tbody>\n",
              "    <tr>\n",
              "      <th>1</th>\n",
              "      <td>0</td>\n",
              "      <td>3</td>\n",
              "      <td>Braund, Mr. Owen Harris</td>\n",
              "      <td>male</td>\n",
              "      <td>22.0</td>\n",
              "      <td>1</td>\n",
              "      <td>0</td>\n",
              "      <td>A/5 21171</td>\n",
              "      <td>7.2500</td>\n",
              "      <td>NaN</td>\n",
              "      <td>S</td>\n",
              "    </tr>\n",
              "    <tr>\n",
              "      <th>2</th>\n",
              "      <td>1</td>\n",
              "      <td>1</td>\n",
              "      <td>Cumings, Mrs. John Bradley (Florence Briggs Th...</td>\n",
              "      <td>female</td>\n",
              "      <td>38.0</td>\n",
              "      <td>1</td>\n",
              "      <td>0</td>\n",
              "      <td>PC 17599</td>\n",
              "      <td>71.2833</td>\n",
              "      <td>C85</td>\n",
              "      <td>C</td>\n",
              "    </tr>\n",
              "    <tr>\n",
              "      <th>3</th>\n",
              "      <td>1</td>\n",
              "      <td>3</td>\n",
              "      <td>Heikkinen, Miss. Laina</td>\n",
              "      <td>female</td>\n",
              "      <td>26.0</td>\n",
              "      <td>0</td>\n",
              "      <td>0</td>\n",
              "      <td>STON/O2. 3101282</td>\n",
              "      <td>7.9250</td>\n",
              "      <td>NaN</td>\n",
              "      <td>S</td>\n",
              "    </tr>\n",
              "    <tr>\n",
              "      <th>4</th>\n",
              "      <td>1</td>\n",
              "      <td>1</td>\n",
              "      <td>Futrelle, Mrs. Jacques Heath (Lily May Peel)</td>\n",
              "      <td>female</td>\n",
              "      <td>35.0</td>\n",
              "      <td>1</td>\n",
              "      <td>0</td>\n",
              "      <td>113803</td>\n",
              "      <td>53.1000</td>\n",
              "      <td>C123</td>\n",
              "      <td>S</td>\n",
              "    </tr>\n",
              "    <tr>\n",
              "      <th>5</th>\n",
              "      <td>0</td>\n",
              "      <td>3</td>\n",
              "      <td>Allen, Mr. William Henry</td>\n",
              "      <td>male</td>\n",
              "      <td>35.0</td>\n",
              "      <td>0</td>\n",
              "      <td>0</td>\n",
              "      <td>373450</td>\n",
              "      <td>8.0500</td>\n",
              "      <td>NaN</td>\n",
              "      <td>S</td>\n",
              "    </tr>\n",
              "  </tbody>\n",
              "</table>\n",
              "</div>\n",
              "      <button class=\"colab-df-convert\" onclick=\"convertToInteractive('df-80b96b45-07d0-494b-a380-e5236c447776')\"\n",
              "              title=\"Convert this dataframe to an interactive table.\"\n",
              "              style=\"display:none;\">\n",
              "        \n",
              "  <svg xmlns=\"http://www.w3.org/2000/svg\" height=\"24px\"viewBox=\"0 0 24 24\"\n",
              "       width=\"24px\">\n",
              "    <path d=\"M0 0h24v24H0V0z\" fill=\"none\"/>\n",
              "    <path d=\"M18.56 5.44l.94 2.06.94-2.06 2.06-.94-2.06-.94-.94-2.06-.94 2.06-2.06.94zm-11 1L8.5 8.5l.94-2.06 2.06-.94-2.06-.94L8.5 2.5l-.94 2.06-2.06.94zm10 10l.94 2.06.94-2.06 2.06-.94-2.06-.94-.94-2.06-.94 2.06-2.06.94z\"/><path d=\"M17.41 7.96l-1.37-1.37c-.4-.4-.92-.59-1.43-.59-.52 0-1.04.2-1.43.59L10.3 9.45l-7.72 7.72c-.78.78-.78 2.05 0 2.83L4 21.41c.39.39.9.59 1.41.59.51 0 1.02-.2 1.41-.59l7.78-7.78 2.81-2.81c.8-.78.8-2.07 0-2.86zM5.41 20L4 18.59l7.72-7.72 1.47 1.35L5.41 20z\"/>\n",
              "  </svg>\n",
              "      </button>\n",
              "      \n",
              "  <style>\n",
              "    .colab-df-container {\n",
              "      display:flex;\n",
              "      flex-wrap:wrap;\n",
              "      gap: 12px;\n",
              "    }\n",
              "\n",
              "    .colab-df-convert {\n",
              "      background-color: #E8F0FE;\n",
              "      border: none;\n",
              "      border-radius: 50%;\n",
              "      cursor: pointer;\n",
              "      display: none;\n",
              "      fill: #1967D2;\n",
              "      height: 32px;\n",
              "      padding: 0 0 0 0;\n",
              "      width: 32px;\n",
              "    }\n",
              "\n",
              "    .colab-df-convert:hover {\n",
              "      background-color: #E2EBFA;\n",
              "      box-shadow: 0px 1px 2px rgba(60, 64, 67, 0.3), 0px 1px 3px 1px rgba(60, 64, 67, 0.15);\n",
              "      fill: #174EA6;\n",
              "    }\n",
              "\n",
              "    [theme=dark] .colab-df-convert {\n",
              "      background-color: #3B4455;\n",
              "      fill: #D2E3FC;\n",
              "    }\n",
              "\n",
              "    [theme=dark] .colab-df-convert:hover {\n",
              "      background-color: #434B5C;\n",
              "      box-shadow: 0px 1px 3px 1px rgba(0, 0, 0, 0.15);\n",
              "      filter: drop-shadow(0px 1px 2px rgba(0, 0, 0, 0.3));\n",
              "      fill: #FFFFFF;\n",
              "    }\n",
              "  </style>\n",
              "\n",
              "      <script>\n",
              "        const buttonEl =\n",
              "          document.querySelector('#df-80b96b45-07d0-494b-a380-e5236c447776 button.colab-df-convert');\n",
              "        buttonEl.style.display =\n",
              "          google.colab.kernel.accessAllowed ? 'block' : 'none';\n",
              "\n",
              "        async function convertToInteractive(key) {\n",
              "          const element = document.querySelector('#df-80b96b45-07d0-494b-a380-e5236c447776');\n",
              "          const dataTable =\n",
              "            await google.colab.kernel.invokeFunction('convertToInteractive',\n",
              "                                                     [key], {});\n",
              "          if (!dataTable) return;\n",
              "\n",
              "          const docLinkHtml = 'Like what you see? Visit the ' +\n",
              "            '<a target=\"_blank\" href=https://colab.research.google.com/notebooks/data_table.ipynb>data table notebook</a>'\n",
              "            + ' to learn more about interactive tables.';\n",
              "          element.innerHTML = '';\n",
              "          dataTable['output_type'] = 'display_data';\n",
              "          await google.colab.output.renderOutput(dataTable, element);\n",
              "          const docLink = document.createElement('div');\n",
              "          docLink.innerHTML = docLinkHtml;\n",
              "          element.appendChild(docLink);\n",
              "        }\n",
              "      </script>\n",
              "    </div>\n",
              "  </div>\n",
              "  "
            ]
          },
          "metadata": {},
          "execution_count": 468
        }
      ]
    },
    {
      "cell_type": "code",
      "source": [
        "df_titanic.shape #891 filas, 11 columnas"
      ],
      "metadata": {
        "colab": {
          "base_uri": "https://localhost:8080/"
        },
        "id": "xVQB81NgKSXP",
        "outputId": "095706c0-f325-47d9-dad3-724b7d1da53b"
      },
      "execution_count": null,
      "outputs": [
        {
          "output_type": "execute_result",
          "data": {
            "text/plain": [
              "(891, 11)"
            ]
          },
          "metadata": {},
          "execution_count": 469
        }
      ]
    },
    {
      "cell_type": "code",
      "source": [
        "#que tipos tiene el dataframe\n",
        "df_titanic.dtypes"
      ],
      "metadata": {
        "colab": {
          "base_uri": "https://localhost:8080/"
        },
        "id": "Bx-n4KZCx8bj",
        "outputId": "60eee426-0f98-4f7c-8331-539bd589ae8d"
      },
      "execution_count": null,
      "outputs": [
        {
          "output_type": "execute_result",
          "data": {
            "text/plain": [
              "Survived      int64\n",
              "Pclass        int64\n",
              "Name         object\n",
              "Sex          object\n",
              "Age         float64\n",
              "SibSp         int64\n",
              "Parch         int64\n",
              "Ticket       object\n",
              "Fare        float64\n",
              "Cabin        object\n",
              "Embarked     object\n",
              "dtype: object"
            ]
          },
          "metadata": {},
          "execution_count": 470
        }
      ]
    },
    {
      "cell_type": "code",
      "source": [
        "# PREGUNTA CLASE: ESTAMOS CAMBIANDO EL TIPO DE DOS COLUMNAS, POR QUÉ CREEN QUE HAGO ESTO?\n",
        "\n",
        "df_titanic['Survived']=df_titanic.Survived.astype(object)\n",
        "df_titanic['Pclass']=df_titanic.Pclass.astype(object)"
      ],
      "metadata": {
        "id": "S71jig3hzg_k"
      },
      "execution_count": null,
      "outputs": []
    },
    {
      "cell_type": "code",
      "source": [
        "df_titanic.dtypes"
      ],
      "metadata": {
        "colab": {
          "base_uri": "https://localhost:8080/"
        },
        "id": "KNIyF_Ww0UFm",
        "outputId": "8f664df5-5d7d-49be-df51-80fe4d2fd463"
      },
      "execution_count": null,
      "outputs": [
        {
          "output_type": "execute_result",
          "data": {
            "text/plain": [
              "Survived     object\n",
              "Pclass       object\n",
              "Name         object\n",
              "Sex          object\n",
              "Age         float64\n",
              "SibSp         int64\n",
              "Parch         int64\n",
              "Ticket       object\n",
              "Fare        float64\n",
              "Cabin        object\n",
              "Embarked     object\n",
              "dtype: object"
            ]
          },
          "metadata": {},
          "execution_count": 472
        }
      ]
    },
    {
      "cell_type": "code",
      "source": [
        "# cuantos valores nulos tiene el dataframe en cada columna\n",
        "df_titanic.isnull().sum()"
      ],
      "metadata": {
        "colab": {
          "base_uri": "https://localhost:8080/"
        },
        "id": "y3TNshTKy3Fz",
        "outputId": "bdd675ce-6e75-45ba-fdac-4baae28c643e"
      },
      "execution_count": null,
      "outputs": [
        {
          "output_type": "execute_result",
          "data": {
            "text/plain": [
              "Survived      0\n",
              "Pclass        0\n",
              "Name          0\n",
              "Sex           0\n",
              "Age         177\n",
              "SibSp         0\n",
              "Parch         0\n",
              "Ticket        0\n",
              "Fare          0\n",
              "Cabin       687\n",
              "Embarked      2\n",
              "dtype: int64"
            ]
          },
          "metadata": {},
          "execution_count": 473
        }
      ]
    },
    {
      "cell_type": "markdown",
      "source": [
        "# Como puedo ver el comportamiento de mis variables categoricas (no numericas)? Con gráficas!"
      ],
      "metadata": {
        "id": "4RukzPAs7PNs"
      }
    },
    {
      "cell_type": "markdown",
      "source": [
        "**Gráfico 1**"
      ],
      "metadata": {
        "id": "zrCrG91o7T37"
      }
    },
    {
      "cell_type": "code",
      "source": [
        "sobrevivientes= pd.Series(df_titanic.groupby('Survived').size())\n",
        "sobrevivientes"
      ],
      "metadata": {
        "colab": {
          "base_uri": "https://localhost:8080/"
        },
        "id": "umv6BTZA1sub",
        "outputId": "7c434ab1-ded8-46b3-b4c4-0b30d6dca1c0"
      },
      "execution_count": null,
      "outputs": [
        {
          "output_type": "execute_result",
          "data": {
            "text/plain": [
              "Survived\n",
              "0    549\n",
              "1    342\n",
              "dtype: int64"
            ]
          },
          "metadata": {},
          "execution_count": 474
        }
      ]
    },
    {
      "cell_type": "code",
      "source": [
        "fig, ax = plt.subplots(figsize=(8,4)) # figsize: (ancho,alto) en pulgadas \n",
        "ax.bar(sobrevivientes.index, sobrevivientes.values)\n",
        "\n",
        "ax.set_ylabel('Frecuencia')\n",
        "ax.set_xlabel('Categoría: 0=no sobrevivieron, 1=si sobrevivieron')\n",
        "\n",
        "plt.xticks(np.arange(0, 2, step=1)) #para que me muestre eje x mas claro\n",
        "plt.show()"
      ],
      "metadata": {
        "colab": {
          "base_uri": "https://localhost:8080/",
          "height": 285
        },
        "id": "zUEOv26X3vqs",
        "outputId": "2912bfa2-4906-49b3-9b4c-9e4a61b9a97f"
      },
      "execution_count": null,
      "outputs": [
        {
          "output_type": "display_data",
          "data": {
            "text/plain": [
              "<Figure size 576x288 with 1 Axes>"
            ],
            "image/png": "[encoded data removed]"
          },
          "metadata": {
            "needs_background": "light"
          }
        }
      ]
    },
    {
      "cell_type": "code",
      "source": [
        "#np.arange(0, 2, step=1)"
      ],
      "metadata": {
        "id": "dMgT2tpnH-a_"
      },
      "execution_count": null,
      "outputs": []
    },
    {
      "cell_type": "markdown",
      "source": [
        "**Gráfico 2**"
      ],
      "metadata": {
        "id": "lgA1n8ez7Vzc"
      }
    },
    {
      "cell_type": "code",
      "source": [
        "genero= pd.Series(df_titanic.groupby('Sex').size())\n",
        "genero"
      ],
      "metadata": {
        "colab": {
          "base_uri": "https://localhost:8080/"
        },
        "id": "d6g93PAx79zj",
        "outputId": "98856d25-a6a9-41c2-b874-547504a4c412"
      },
      "execution_count": null,
      "outputs": [
        {
          "output_type": "execute_result",
          "data": {
            "text/plain": [
              "Sex\n",
              "female    314\n",
              "male      577\n",
              "dtype: int64"
            ]
          },
          "metadata": {},
          "execution_count": 477
        }
      ]
    },
    {
      "cell_type": "code",
      "source": [
        "fig,ax = plt.subplots(figsize =(10, 7))\n",
        "\n",
        "ax.pie(genero, \n",
        "       labels = genero.index,\n",
        "       autopct='%1.1f%%', #para mostrar proporcion dentro de grafico\n",
        "       textprops={'fontsize': 18}) #para aumentar tamaño de fuente\n",
        "\n",
        "ax.set_title('Proporción de género')\n",
        "plt.show() "
      ],
      "metadata": {
        "colab": {
          "base_uri": "https://localhost:8080/",
          "height": 430
        },
        "id": "t0R_6gEX7qDT",
        "outputId": "3346f3ac-bc83-45e8-bf67-5c03a1dd890d"
      },
      "execution_count": null,
      "outputs": [
        {
          "output_type": "display_data",
          "data": {
            "text/plain": [
              "<Figure size 720x504 with 1 Axes>"
            ],
            "image/png": "[encoded data removed]"
          },
          "metadata": {}
        }
      ]
    },
    {
      "cell_type": "markdown",
      "source": [
        "**Gráfico 3**"
      ],
      "metadata": {
        "id": "A_x_x2MJ7x5t"
      }
    },
    {
      "cell_type": "code",
      "source": [
        "# clase_tiquete=pd.DataFrame(df_titanic.groupby(['Pclass','Sex']).size()).reset_index()\n",
        "\n",
        "# clase_tiquete.rename(columns={0:'conteo'},inplace=True)"
      ],
      "metadata": {
        "id": "wN5XoF8CJtqf"
      },
      "execution_count": null,
      "outputs": []
    },
    {
      "cell_type": "code",
      "source": [
        "clase_tiquete= pd.DataFrame(df_titanic.groupby(['Pclass','Sex']).size()).reset_index() #reset_index me ayuda a convertir los indices en columnas\n",
        "clase_tiquete.rename(columns={0:'conteo'},inplace=True) #le cambio el nombre a una columna que habia quedado como 0 \n",
        "clase_tiquete"
      ],
      "metadata": {
        "colab": {
          "base_uri": "https://localhost:8080/",
          "height": 237
        },
        "id": "l73HydiC7MVq",
        "outputId": "0f5d546b-c956-40ca-b996-8f3f4ca9ada9"
      },
      "execution_count": null,
      "outputs": [
        {
          "output_type": "execute_result",
          "data": {
            "text/plain": [
              "   Pclass     Sex  conteo\n",
              "0       1  female      94\n",
              "1       1    male     122\n",
              "2       2  female      76\n",
              "3       2    male     108\n",
              "4       3  female     144\n",
              "5       3    male     347"
            ],
            "text/html": [
              "\n",
              "  <div id=\"df-61faf388-89da-4575-b13e-6908a437985f\">\n",
              "    <div class=\"colab-df-container\">\n",
              "      <div>\n",
              "<style scoped>\n",
              "    .dataframe tbody tr th:only-of-type {\n",
              "        vertical-align: middle;\n",
              "    }\n",
              "\n",
              "    .dataframe tbody tr th {\n",
              "        vertical-align: top;\n",
              "    }\n",
              "\n",
              "    .dataframe thead th {\n",
              "        text-align: right;\n",
              "    }\n",
              "</style>\n",
              "<table border=\"1\" class=\"dataframe\">\n",
              "  <thead>\n",
              "    <tr style=\"text-align: right;\">\n",
              "      <th></th>\n",
              "      <th>Pclass</th>\n",
              "      <th>Sex</th>\n",
              "      <th>conteo</th>\n",
              "    </tr>\n",
              "  </thead>\n",
              "  <tbody>\n",
              "    <tr>\n",
              "      <th>0</th>\n",
              "      <td>1</td>\n",
              "      <td>female</td>\n",
              "      <td>94</td>\n",
              "    </tr>\n",
              "    <tr>\n",
              "      <th>1</th>\n",
              "      <td>1</td>\n",
              "      <td>male</td>\n",
              "      <td>122</td>\n",
              "    </tr>\n",
              "    <tr>\n",
              "      <th>2</th>\n",
              "      <td>2</td>\n",
              "      <td>female</td>\n",
              "      <td>76</td>\n",
              "    </tr>\n",
              "    <tr>\n",
              "      <th>3</th>\n",
              "      <td>2</td>\n",
              "      <td>male</td>\n",
              "      <td>108</td>\n",
              "    </tr>\n",
              "    <tr>\n",
              "      <th>4</th>\n",
              "      <td>3</td>\n",
              "      <td>female</td>\n",
              "      <td>144</td>\n",
              "    </tr>\n",
              "    <tr>\n",
              "      <th>5</th>\n",
              "      <td>3</td>\n",
              "      <td>male</td>\n",
              "      <td>347</td>\n",
              "    </tr>\n",
              "  </tbody>\n",
              "</table>\n",
              "</div>\n",
              "      <button class=\"colab-df-convert\" onclick=\"convertToInteractive('df-61faf388-89da-4575-b13e-6908a437985f')\"\n",
              "              title=\"Convert this dataframe to an interactive table.\"\n",
              "              style=\"display:none;\">\n",
              "        \n",
              "  <svg xmlns=\"http://www.w3.org/2000/svg\" height=\"24px\"viewBox=\"0 0 24 24\"\n",
              "       width=\"24px\">\n",
              "    <path d=\"M0 0h24v24H0V0z\" fill=\"none\"/>\n",
              "    <path d=\"M18.56 5.44l.94 2.06.94-2.06 2.06-.94-2.06-.94-.94-2.06-.94 2.06-2.06.94zm-11 1L8.5 8.5l.94-2.06 2.06-.94-2.06-.94L8.5 2.5l-.94 2.06-2.06.94zm10 10l.94 2.06.94-2.06 2.06-.94-2.06-.94-.94-2.06-.94 2.06-2.06.94z\"/><path d=\"M17.41 7.96l-1.37-1.37c-.4-.4-.92-.59-1.43-.59-.52 0-1.04.2-1.43.59L10.3 9.45l-7.72 7.72c-.78.78-.78 2.05 0 2.83L4 21.41c.39.39.9.59 1.41.59.51 0 1.02-.2 1.41-.59l7.78-7.78 2.81-2.81c.8-.78.8-2.07 0-2.86zM5.41 20L4 18.59l7.72-7.72 1.47 1.35L5.41 20z\"/>\n",
              "  </svg>\n",
              "      </button>\n",
              "      \n",
              "  <style>\n",
              "    .colab-df-container {\n",
              "      display:flex;\n",
              "      flex-wrap:wrap;\n",
              "      gap: 12px;\n",
              "    }\n",
              "\n",
              "    .colab-df-convert {\n",
              "      background-color: #E8F0FE;\n",
              "      border: none;\n",
              "      border-radius: 50%;\n",
              "      cursor: pointer;\n",
              "      display: none;\n",
              "      fill: #1967D2;\n",
              "      height: 32px;\n",
              "      padding: 0 0 0 0;\n",
              "      width: 32px;\n",
              "    }\n",
              "\n",
              "    .colab-df-convert:hover {\n",
              "      background-color: #E2EBFA;\n",
              "      box-shadow: 0px 1px 2px rgba(60, 64, 67, 0.3), 0px 1px 3px 1px rgba(60, 64, 67, 0.15);\n",
              "      fill: #174EA6;\n",
              "    }\n",
              "\n",
              "    [theme=dark] .colab-df-convert {\n",
              "      background-color: #3B4455;\n",
              "      fill: #D2E3FC;\n",
              "    }\n",
              "\n",
              "    [theme=dark] .colab-df-convert:hover {\n",
              "      background-color: #434B5C;\n",
              "      box-shadow: 0px 1px 3px 1px rgba(0, 0, 0, 0.15);\n",
              "      filter: drop-shadow(0px 1px 2px rgba(0, 0, 0, 0.3));\n",
              "      fill: #FFFFFF;\n",
              "    }\n",
              "  </style>\n",
              "\n",
              "      <script>\n",
              "        const buttonEl =\n",
              "          document.querySelector('#df-61faf388-89da-4575-b13e-6908a437985f button.colab-df-convert');\n",
              "        buttonEl.style.display =\n",
              "          google.colab.kernel.accessAllowed ? 'block' : 'none';\n",
              "\n",
              "        async function convertToInteractive(key) {\n",
              "          const element = document.querySelector('#df-61faf388-89da-4575-b13e-6908a437985f');\n",
              "          const dataTable =\n",
              "            await google.colab.kernel.invokeFunction('convertToInteractive',\n",
              "                                                     [key], {});\n",
              "          if (!dataTable) return;\n",
              "\n",
              "          const docLinkHtml = 'Like what you see? Visit the ' +\n",
              "            '<a target=\"_blank\" href=https://colab.research.google.com/notebooks/data_table.ipynb>data table notebook</a>'\n",
              "            + ' to learn more about interactive tables.';\n",
              "          element.innerHTML = '';\n",
              "          dataTable['output_type'] = 'display_data';\n",
              "          await google.colab.output.renderOutput(dataTable, element);\n",
              "          const docLink = document.createElement('div');\n",
              "          docLink.innerHTML = docLinkHtml;\n",
              "          element.appendChild(docLink);\n",
              "        }\n",
              "      </script>\n",
              "    </div>\n",
              "  </div>\n",
              "  "
            ]
          },
          "metadata": {},
          "execution_count": 480
        }
      ]
    },
    {
      "cell_type": "code",
      "source": [
        "clase_tiquete.loc[clase_tiquete['Sex']=='female','conteo']"
      ],
      "metadata": {
        "colab": {
          "base_uri": "https://localhost:8080/"
        },
        "id": "cb067qZmKrr2",
        "outputId": "e1db49b3-1dd5-4dde-cb30-b0a0527cba18"
      },
      "execution_count": null,
      "outputs": [
        {
          "output_type": "execute_result",
          "data": {
            "text/plain": [
              "0     94\n",
              "2     76\n",
              "4    144\n",
              "Name: conteo, dtype: int64"
            ]
          },
          "metadata": {},
          "execution_count": 481
        }
      ]
    },
    {
      "cell_type": "code",
      "source": [
        "fig, ax = plt.subplots(figsize=(8,4)) # figsize: (ancho,alto) en pulgadas \n",
        "\n",
        "ax.plot(clase_tiquete.loc[clase_tiquete['Sex']=='female','Pclass'], \n",
        "        clase_tiquete.loc[clase_tiquete['Sex']=='female','conteo'], \n",
        "        label='mujeres',color='magenta')\n",
        "\n",
        "ax.plot(clase_tiquete.loc[clase_tiquete['Sex']=='male','Pclass'], \n",
        "        clase_tiquete.loc[clase_tiquete['Sex']=='male','conteo'], \n",
        "        label='hombres', color='red')\n",
        "\n",
        "ax.legend() #mostrando mi cajita de etiquetas para cada linea\n",
        "\n",
        "plt.xticks(np.arange(1, 4, step=1)) #para que me muestre eje x mas claro\n",
        "plt.show()"
      ],
      "metadata": {
        "colab": {
          "base_uri": "https://localhost:8080/",
          "height": 265
        },
        "id": "gAFjQEv-DH0k",
        "outputId": "14be340d-351f-4525-a101-0c80dce25b26"
      },
      "execution_count": null,
      "outputs": [
        {
          "output_type": "display_data",
          "data": {
            "text/plain": [
              "<Figure size 576x288 with 1 Axes>"
            ],
            "image/png": "[encoded data removed]"
          },
          "metadata": {
            "needs_background": "light"
          }
        }
      ]
    },
    {
      "cell_type": "markdown",
      "source": [
        "# Qué opciones básicas tengo para lidiar con valores nulos o faltantes?"
      ],
      "metadata": {
        "id": "JQC90viq_K5O"
      }
    },
    {
      "cell_type": "code",
      "source": [
        "# cuantos valores nulos tiene el dataframe en cada columna\n",
        "df_titanic.isnull().sum()"
      ],
      "metadata": {
        "colab": {
          "base_uri": "https://localhost:8080/"
        },
        "id": "zX1-kWAH_Rmk",
        "outputId": "3c22bbe3-989d-4f06-ed84-c71ab4cd133e"
      },
      "execution_count": null,
      "outputs": [
        {
          "output_type": "execute_result",
          "data": {
            "text/plain": [
              "Survived      0\n",
              "Pclass        0\n",
              "Name          0\n",
              "Sex           0\n",
              "Age         177\n",
              "SibSp         0\n",
              "Parch         0\n",
              "Ticket        0\n",
              "Fare          0\n",
              "Cabin       687\n",
              "Embarked      2\n",
              "dtype: int64"
            ]
          },
          "metadata": {},
          "execution_count": 483
        }
      ]
    },
    {
      "cell_type": "code",
      "source": [
        "df_titanic['Age'].fillna(df_titanic['Age'].mean(), inplace=True) "
      ],
      "metadata": {
        "id": "KvlOhx2N752u"
      },
      "execution_count": null,
      "outputs": []
    },
    {
      "cell_type": "code",
      "source": [
        "df_titanic['Cabin'].fillna('valor_desconocido', inplace=True)"
      ],
      "metadata": {
        "id": "Vcjm625nJymE"
      },
      "execution_count": null,
      "outputs": []
    },
    {
      "cell_type": "code",
      "source": [
        "df_titanic['Embarked'].fillna('valor_desconocido', inplace=True)"
      ],
      "metadata": {
        "id": "QNZZHiP7JyjN"
      },
      "execution_count": null,
      "outputs": []
    },
    {
      "cell_type": "code",
      "source": [
        "df_titanic.isnull().sum()"
      ],
      "metadata": {
        "colab": {
          "base_uri": "https://localhost:8080/"
        },
        "id": "5NBK4JZNMe22",
        "outputId": "269c8390-6f33-4122-f544-674ccc29abc8"
      },
      "execution_count": null,
      "outputs": [
        {
          "output_type": "execute_result",
          "data": {
            "text/plain": [
              "Survived    0\n",
              "Pclass      0\n",
              "Name        0\n",
              "Sex         0\n",
              "Age         0\n",
              "SibSp       0\n",
              "Parch       0\n",
              "Ticket      0\n",
              "Fare        0\n",
              "Cabin       0\n",
              "Embarked    0\n",
              "dtype: int64"
            ]
          },
          "metadata": {},
          "execution_count": 487
        }
      ]
    },
    {
      "cell_type": "markdown",
      "source": [
        "# Cómo puedo ver comportamiento de variables numéricas, sin utilizar gráficas? Con el método .describe( )"
      ],
      "metadata": {
        "id": "4upsehLz-7Ul"
      }
    },
    {
      "cell_type": "markdown",
      "source": [
        "**Para cada columna numerica vamos a tener lo siguiente:**\n",
        "\n",
        "* **count**: conteo de la cantidad de filas. Noten como el número se repite en cada columna.\n",
        "* **mean**: promedio para cada columna.\n",
        "* **std**: desviacion estandar. Nos dice que tan dispersos están los datos en relación a la media.\n",
        "* **min**: valor minimo de toda la columna. \n",
        "* **25%**: percentil 25.\n",
        "* **50%**: percentil 50 o MEDIANA.\n",
        "* **75%**: percentil 75.\n",
        "* **max**: valor maximo de toda la columna. "
      ],
      "metadata": {
        "id": "Opw8R5tZJ-3H"
      }
    },
    {
      "cell_type": "code",
      "source": [
        "# resumen estadistico de variables numericas\n",
        "df_titanic.describe()"
      ],
      "metadata": {
        "colab": {
          "base_uri": "https://localhost:8080/",
          "height": 300
        },
        "id": "X1KvrLzJy7SD",
        "outputId": "247d4007-dc51-4d04-eb45-4d5e25eb2dd0"
      },
      "execution_count": null,
      "outputs": [
        {
          "output_type": "execute_result",
          "data": {
            "text/plain": [
              "              Age       SibSp       Parch        Fare\n",
              "count  891.000000  891.000000  891.000000  891.000000\n",
              "mean    29.699118    0.523008    0.381594   32.204208\n",
              "std     13.002015    1.102743    0.806057   49.693429\n",
              "min      0.420000    0.000000    0.000000    0.000000\n",
              "25%     22.000000    0.000000    0.000000    7.910400\n",
              "50%     29.699118    0.000000    0.000000   14.454200\n",
              "75%     35.000000    1.000000    0.000000   31.000000\n",
              "max     80.000000    8.000000    6.000000  512.329200"
            ],
            "text/html": [
              "\n",
              "  <div id=\"df-d857d080-f35a-4509-b686-7f74c6fdf10f\">\n",
              "    <div class=\"colab-df-container\">\n",
              "      <div>\n",
              "<style scoped>\n",
              "    .dataframe tbody tr th:only-of-type {\n",
              "        vertical-align: middle;\n",
              "    }\n",
              "\n",
              "    .dataframe tbody tr th {\n",
              "        vertical-align: top;\n",
              "    }\n",
              "\n",
              "    .dataframe thead th {\n",
              "        text-align: right;\n",
              "    }\n",
              "</style>\n",
              "<table border=\"1\" class=\"dataframe\">\n",
              "  <thead>\n",
              "    <tr style=\"text-align: right;\">\n",
              "      <th></th>\n",
              "      <th>Age</th>\n",
              "      <th>SibSp</th>\n",
              "      <th>Parch</th>\n",
              "      <th>Fare</th>\n",
              "    </tr>\n",
              "  </thead>\n",
              "  <tbody>\n",
              "    <tr>\n",
              "      <th>count</th>\n",
              "      <td>891.000000</td>\n",
              "      <td>891.000000</td>\n",
              "      <td>891.000000</td>\n",
              "      <td>891.000000</td>\n",
              "    </tr>\n",
              "    <tr>\n",
              "      <th>mean</th>\n",
              "      <td>29.699118</td>\n",
              "      <td>0.523008</td>\n",
              "      <td>0.381594</td>\n",
              "      <td>32.204208</td>\n",
              "    </tr>\n",
              "    <tr>\n",
              "      <th>std</th>\n",
              "      <td>13.002015</td>\n",
              "      <td>1.102743</td>\n",
              "      <td>0.806057</td>\n",
              "      <td>49.693429</td>\n",
              "    </tr>\n",
              "    <tr>\n",
              "      <th>min</th>\n",
              "      <td>0.420000</td>\n",
              "      <td>0.000000</td>\n",
              "      <td>0.000000</td>\n",
              "      <td>0.000000</td>\n",
              "    </tr>\n",
              "    <tr>\n",
              "      <th>25%</th>\n",
              "      <td>22.000000</td>\n",
              "      <td>0.000000</td>\n",
              "      <td>0.000000</td>\n",
              "      <td>7.910400</td>\n",
              "    </tr>\n",
              "    <tr>\n",
              "      <th>50%</th>\n",
              "      <td>29.699118</td>\n",
              "      <td>0.000000</td>\n",
              "      <td>0.000000</td>\n",
              "      <td>14.454200</td>\n",
              "    </tr>\n",
              "    <tr>\n",
              "      <th>75%</th>\n",
              "      <td>35.000000</td>\n",
              "      <td>1.000000</td>\n",
              "      <td>0.000000</td>\n",
              "      <td>31.000000</td>\n",
              "    </tr>\n",
              "    <tr>\n",
              "      <th>max</th>\n",
              "      <td>80.000000</td>\n",
              "      <td>8.000000</td>\n",
              "      <td>6.000000</td>\n",
              "      <td>512.329200</td>\n",
              "    </tr>\n",
              "  </tbody>\n",
              "</table>\n",
              "</div>\n",
              "      <button class=\"colab-df-convert\" onclick=\"convertToInteractive('df-d857d080-f35a-4509-b686-7f74c6fdf10f')\"\n",
              "              title=\"Convert this dataframe to an interactive table.\"\n",
              "              style=\"display:none;\">\n",
              "        \n",
              "  <svg xmlns=\"http://www.w3.org/2000/svg\" height=\"24px\"viewBox=\"0 0 24 24\"\n",
              "       width=\"24px\">\n",
              "    <path d=\"M0 0h24v24H0V0z\" fill=\"none\"/>\n",
              "    <path d=\"M18.56 5.44l.94 2.06.94-2.06 2.06-.94-2.06-.94-.94-2.06-.94 2.06-2.06.94zm-11 1L8.5 8.5l.94-2.06 2.06-.94-2.06-.94L8.5 2.5l-.94 2.06-2.06.94zm10 10l.94 2.06.94-2.06 2.06-.94-2.06-.94-.94-2.06-.94 2.06-2.06.94z\"/><path d=\"M17.41 7.96l-1.37-1.37c-.4-.4-.92-.59-1.43-.59-.52 0-1.04.2-1.43.59L10.3 9.45l-7.72 7.72c-.78.78-.78 2.05 0 2.83L4 21.41c.39.39.9.59 1.41.59.51 0 1.02-.2 1.41-.59l7.78-7.78 2.81-2.81c.8-.78.8-2.07 0-2.86zM5.41 20L4 18.59l7.72-7.72 1.47 1.35L5.41 20z\"/>\n",
              "  </svg>\n",
              "      </button>\n",
              "      \n",
              "  <style>\n",
              "    .colab-df-container {\n",
              "      display:flex;\n",
              "      flex-wrap:wrap;\n",
              "      gap: 12px;\n",
              "    }\n",
              "\n",
              "    .colab-df-convert {\n",
              "      background-color: #E8F0FE;\n",
              "      border: none;\n",
              "      border-radius: 50%;\n",
              "      cursor: pointer;\n",
              "      display: none;\n",
              "      fill: #1967D2;\n",
              "      height: 32px;\n",
              "      padding: 0 0 0 0;\n",
              "      width: 32px;\n",
              "    }\n",
              "\n",
              "    .colab-df-convert:hover {\n",
              "      background-color: #E2EBFA;\n",
              "      box-shadow: 0px 1px 2px rgba(60, 64, 67, 0.3), 0px 1px 3px 1px rgba(60, 64, 67, 0.15);\n",
              "      fill: #174EA6;\n",
              "    }\n",
              "\n",
              "    [theme=dark] .colab-df-convert {\n",
              "      background-color: #3B4455;\n",
              "      fill: #D2E3FC;\n",
              "    }\n",
              "\n",
              "    [theme=dark] .colab-df-convert:hover {\n",
              "      background-color: #434B5C;\n",
              "      box-shadow: 0px 1px 3px 1px rgba(0, 0, 0, 0.15);\n",
              "      filter: drop-shadow(0px 1px 2px rgba(0, 0, 0, 0.3));\n",
              "      fill: #FFFFFF;\n",
              "    }\n",
              "  </style>\n",
              "\n",
              "      <script>\n",
              "        const buttonEl =\n",
              "          document.querySelector('#df-d857d080-f35a-4509-b686-7f74c6fdf10f button.colab-df-convert');\n",
              "        buttonEl.style.display =\n",
              "          google.colab.kernel.accessAllowed ? 'block' : 'none';\n",
              "\n",
              "        async function convertToInteractive(key) {\n",
              "          const element = document.querySelector('#df-d857d080-f35a-4509-b686-7f74c6fdf10f');\n",
              "          const dataTable =\n",
              "            await google.colab.kernel.invokeFunction('convertToInteractive',\n",
              "                                                     [key], {});\n",
              "          if (!dataTable) return;\n",
              "\n",
              "          const docLinkHtml = 'Like what you see? Visit the ' +\n",
              "            '<a target=\"_blank\" href=https://colab.research.google.com/notebooks/data_table.ipynb>data table notebook</a>'\n",
              "            + ' to learn more about interactive tables.';\n",
              "          element.innerHTML = '';\n",
              "          dataTable['output_type'] = 'display_data';\n",
              "          await google.colab.output.renderOutput(dataTable, element);\n",
              "          const docLink = document.createElement('div');\n",
              "          docLink.innerHTML = docLinkHtml;\n",
              "          element.appendChild(docLink);\n",
              "        }\n",
              "      </script>\n",
              "    </div>\n",
              "  </div>\n",
              "  "
            ]
          },
          "metadata": {},
          "execution_count": 488
        }
      ]
    },
    {
      "cell_type": "code",
      "source": [
        "#DIAGRAMA DE CAJA Y BIGOTES para una variable...comparemos con método .describe()\n",
        "\n",
        "fig, ax = plt.subplots(figsize=(10, 8))\n",
        "ax.boxplot(df_titanic['Age']) #debimos transponer el dataframe porque queremos a los meses en el eje X\n",
        "\n",
        "ax.set_xlabel('Age')\n",
        "plt.show()"
      ],
      "metadata": {
        "colab": {
          "base_uri": "https://localhost:8080/",
          "height": 502
        },
        "id": "up-bPcSVzamb",
        "outputId": "ade75312-7891-4570-bff2-570722690c64"
      },
      "execution_count": null,
      "outputs": [
        {
          "output_type": "display_data",
          "data": {
            "text/plain": [
              "<Figure size 720x576 with 1 Axes>"
            ],
            "image/png": "[encoded data removed]"
          },
          "metadata": {
            "needs_background": "light"
          }
        }
      ]
    },
    {
      "cell_type": "markdown",
      "source": [
        "# Relaciones entre variables numéricas con gráficos de puntos o scatter plots"
      ],
      "metadata": {
        "id": "oqPOvwNjLh78"
      }
    },
    {
      "cell_type": "code",
      "source": [
        "fig, ax = plt.subplots()\n",
        "ax.scatter(df_titanic['Age'],df_titanic['Fare'])\n",
        "\n",
        "ax.set_xlabel('edad')\n",
        "ax.set_ylabel('tarifa')\n",
        "plt.show()"
      ],
      "metadata": {
        "colab": {
          "base_uri": "https://localhost:8080/",
          "height": 284
        },
        "id": "8pUXGanPKLrk",
        "outputId": "dcf135fe-363a-4f10-82c6-3583fe74b9f8"
      },
      "execution_count": null,
      "outputs": [
        {
          "output_type": "display_data",
          "data": {
            "text/plain": [
              "<Figure size 432x288 with 1 Axes>"
            ],
            "image/png": "[encoded data removed]"
          },
          "metadata": {
            "needs_background": "light"
          }
        }
      ]
    },
    {
      "cell_type": "markdown",
      "source": [
        "# ACTIVIDAD PARA LOS/LAS ESTUDIANTES"
      ],
      "metadata": {
        "id": "cxpTkhFBMdB1"
      }
    },
    {
      "cell_type": "markdown",
      "source": [
        "Utilicemos el Dataset de RRHH con datos de empleados: \n",
        "\n",
        "* descargar desde drive: https://drive.google.com/file/d/1pz1WgskPr5oX0OkboIN3SiLkqqZzSonP/view?usp=sharing\n",
        "\n",
        "* [Fuente en Kaggle](https://www.kaggle.com/datasets/rhuebner/human-resources-data-set)"
      ],
      "metadata": {
        "id": "cubaxNuhMu1b"
      }
    },
    {
      "cell_type": "markdown",
      "source": [
        "**Primero importa el dataframe**"
      ],
      "metadata": {
        "id": "-ubIC19HxYjF"
      }
    },
    {
      "cell_type": "code",
      "source": [
        "data=pd.read_csv('/content/gdrive/MyDrive/coderhouse/HRDataset_v14.csv',sep=',')"
      ],
      "metadata": {
        "id": "qHzQ-2gwL1Kk"
      },
      "execution_count": null,
      "outputs": []
    },
    {
      "cell_type": "markdown",
      "source": [
        "**Cuántas filas y columnas tiene nuestro dataframe?**"
      ],
      "metadata": {
        "id": "mWcvDFP4fgv2"
      }
    },
    {
      "cell_type": "code",
      "source": [
        "data.shape #311 filas y 36 columnas"
      ],
      "metadata": {
        "colab": {
          "base_uri": "https://localhost:8080/"
        },
        "id": "F2VCG8zQfew9",
        "outputId": "8a845e56-c737-4597-d65b-8ca535d3e702"
      },
      "execution_count": null,
      "outputs": [
        {
          "output_type": "execute_result",
          "data": {
            "text/plain": [
              "(311, 36)"
            ]
          },
          "metadata": {},
          "execution_count": 492
        }
      ]
    },
    {
      "cell_type": "markdown",
      "source": [
        "**Qué tipo de datos tiene cada columna del dataset?**"
      ],
      "metadata": {
        "id": "y_S_qRUXfzYM"
      }
    },
    {
      "cell_type": "code",
      "source": [
        "data.dtypes"
      ],
      "metadata": {
        "colab": {
          "base_uri": "https://localhost:8080/"
        },
        "id": "5jdQf08kf298",
        "outputId": "63aa4658-e84a-449c-abee-58e02d42ec9b"
      },
      "execution_count": null,
      "outputs": [
        {
          "output_type": "execute_result",
          "data": {
            "text/plain": [
              "Employee_Name                  object\n",
              "EmpID                           int64\n",
              "MarriedID                       int64\n",
              "MaritalStatusID                 int64\n",
              "GenderID                        int64\n",
              "EmpStatusID                     int64\n",
              "DeptID                          int64\n",
              "PerfScoreID                     int64\n",
              "FromDiversityJobFairID          int64\n",
              "Salary                          int64\n",
              "Termd                           int64\n",
              "PositionID                      int64\n",
              "Position                       object\n",
              "State                          object\n",
              "Zip                             int64\n",
              "DOB                            object\n",
              "Sex                            object\n",
              "MaritalDesc                    object\n",
              "CitizenDesc                    object\n",
              "HispanicLatino                 object\n",
              "RaceDesc                       object\n",
              "DateofHire                     object\n",
              "DateofTermination              object\n",
              "TermReason                     object\n",
              "EmploymentStatus               object\n",
              "Department                     object\n",
              "ManagerName                    object\n",
              "ManagerID                     float64\n",
              "RecruitmentSource              object\n",
              "PerformanceScore               object\n",
              "EngagementSurvey              float64\n",
              "EmpSatisfaction                 int64\n",
              "SpecialProjectsCount            int64\n",
              "LastPerformanceReview_Date     object\n",
              "DaysLateLast30                  int64\n",
              "Absences                        int64\n",
              "dtype: object"
            ]
          },
          "metadata": {},
          "execution_count": 493
        }
      ]
    },
    {
      "cell_type": "markdown",
      "source": [
        "**Cuántos valores nulos tiene cada columna?**"
      ],
      "metadata": {
        "id": "8aXSMgsMerrU"
      }
    },
    {
      "cell_type": "code",
      "source": [
        "data.isna().sum()"
      ],
      "metadata": {
        "colab": {
          "base_uri": "https://localhost:8080/"
        },
        "id": "eMAMVeaqerbe",
        "outputId": "7f64a7f8-ef02-4dd8-fe85-0c742909169f"
      },
      "execution_count": null,
      "outputs": [
        {
          "output_type": "execute_result",
          "data": {
            "text/plain": [
              "Employee_Name                   0\n",
              "EmpID                           0\n",
              "MarriedID                       0\n",
              "MaritalStatusID                 0\n",
              "GenderID                        0\n",
              "EmpStatusID                     0\n",
              "DeptID                          0\n",
              "PerfScoreID                     0\n",
              "FromDiversityJobFairID          0\n",
              "Salary                          0\n",
              "Termd                           0\n",
              "PositionID                      0\n",
              "Position                        0\n",
              "State                           0\n",
              "Zip                             0\n",
              "DOB                             0\n",
              "Sex                             0\n",
              "MaritalDesc                     0\n",
              "CitizenDesc                     0\n",
              "HispanicLatino                  0\n",
              "RaceDesc                        0\n",
              "DateofHire                      0\n",
              "DateofTermination             207\n",
              "TermReason                      0\n",
              "EmploymentStatus                0\n",
              "Department                      0\n",
              "ManagerName                     0\n",
              "ManagerID                       8\n",
              "RecruitmentSource               0\n",
              "PerformanceScore                0\n",
              "EngagementSurvey                0\n",
              "EmpSatisfaction                 0\n",
              "SpecialProjectsCount            0\n",
              "LastPerformanceReview_Date      0\n",
              "DaysLateLast30                  0\n",
              "Absences                        0\n",
              "dtype: int64"
            ]
          },
          "metadata": {},
          "execution_count": 494
        }
      ]
    },
    {
      "cell_type": "markdown",
      "source": [
        "**De las columnas que nos dice que son numéricas, menciona al menos 4 que creas deben ser convertidas a categoricas y la razon**"
      ],
      "metadata": {
        "id": "MzgMJUa5gOXN"
      }
    },
    {
      "cell_type": "code",
      "source": [
        "data.describe() #podemos usar .describe() para ver columnas interpretadas como numericas"
      ],
      "metadata": {
        "colab": {
          "base_uri": "https://localhost:8080/",
          "height": 364
        },
        "id": "8XVS0eGOhkkN",
        "outputId": "2f88f983-4e4e-435e-eea0-2c97a8bf5ed0"
      },
      "execution_count": null,
      "outputs": [
        {
          "output_type": "execute_result",
          "data": {
            "text/plain": [
              "              EmpID   MarriedID  MaritalStatusID    GenderID  EmpStatusID  \\\n",
              "count    311.000000  311.000000       311.000000  311.000000   311.000000   \n",
              "mean   10156.000000    0.398714         0.810289    0.434084     2.392283   \n",
              "std       89.922189    0.490423         0.943239    0.496435     1.794383   \n",
              "min    10001.000000    0.000000         0.000000    0.000000     1.000000   \n",
              "25%    10078.500000    0.000000         0.000000    0.000000     1.000000   \n",
              "50%    10156.000000    0.000000         1.000000    0.000000     1.000000   \n",
              "75%    10233.500000    1.000000         1.000000    1.000000     5.000000   \n",
              "max    10311.000000    1.000000         4.000000    1.000000     5.000000   \n",
              "\n",
              "           DeptID  PerfScoreID  FromDiversityJobFairID         Salary  \\\n",
              "count  311.000000   311.000000              311.000000     311.000000   \n",
              "mean     4.610932     2.977492                0.093248   69020.684887   \n",
              "std      1.083487     0.587072                0.291248   25156.636930   \n",
              "min      1.000000     1.000000                0.000000   45046.000000   \n",
              "25%      5.000000     3.000000                0.000000   55501.500000   \n",
              "50%      5.000000     3.000000                0.000000   62810.000000   \n",
              "75%      5.000000     3.000000                0.000000   72036.000000   \n",
              "max      6.000000     4.000000                1.000000  250000.000000   \n",
              "\n",
              "            Termd  PositionID           Zip   ManagerID  EngagementSurvey  \\\n",
              "count  311.000000  311.000000    311.000000  303.000000        311.000000   \n",
              "mean     0.334405   16.845659   6555.482315   14.570957          4.110000   \n",
              "std      0.472542    6.223419  16908.396884    8.078306          0.789938   \n",
              "min      0.000000    1.000000   1013.000000    1.000000          1.120000   \n",
              "25%      0.000000   18.000000   1901.500000   10.000000          3.690000   \n",
              "50%      0.000000   19.000000   2132.000000   15.000000          4.280000   \n",
              "75%      1.000000   20.000000   2355.000000   19.000000          4.700000   \n",
              "max      1.000000   30.000000  98052.000000   39.000000          5.000000   \n",
              "\n",
              "       EmpSatisfaction  SpecialProjectsCount  DaysLateLast30    Absences  \n",
              "count       311.000000            311.000000      311.000000  311.000000  \n",
              "mean          3.890675              1.218650        0.414791   10.237942  \n",
              "std           0.909241              2.349421        1.294519    5.852596  \n",
              "min           1.000000              0.000000        0.000000    1.000000  \n",
              "25%           3.000000              0.000000        0.000000    5.000000  \n",
              "50%           4.000000              0.000000        0.000000   10.000000  \n",
              "75%           5.000000              0.000000        0.000000   15.000000  \n",
              "max           5.000000              8.000000        6.000000   20.000000  "
            ],
            "text/html": [
              "\n",
              "  <div id=\"df-6bd7d7b0-e495-434c-b6a0-cfaeeee4ed30\">\n",
              "    <div class=\"colab-df-container\">\n",
              "      <div>\n",
              "<style scoped>\n",
              "    .dataframe tbody tr th:only-of-type {\n",
              "        vertical-align: middle;\n",
              "    }\n",
              "\n",
              "    .dataframe tbody tr th {\n",
              "        vertical-align: top;\n",
              "    }\n",
              "\n",
              "    .dataframe thead th {\n",
              "        text-align: right;\n",
              "    }\n",
              "</style>\n",
              "<table border=\"1\" class=\"dataframe\">\n",
              "  <thead>\n",
              "    <tr style=\"text-align: right;\">\n",
              "      <th></th>\n",
              "      <th>EmpID</th>\n",
              "      <th>MarriedID</th>\n",
              "      <th>MaritalStatusID</th>\n",
              "      <th>GenderID</th>\n",
              "      <th>EmpStatusID</th>\n",
              "      <th>DeptID</th>\n",
              "      <th>PerfScoreID</th>\n",
              "      <th>FromDiversityJobFairID</th>\n",
              "      <th>Salary</th>\n",
              "      <th>Termd</th>\n",
              "      <th>PositionID</th>\n",
              "      <th>Zip</th>\n",
              "      <th>ManagerID</th>\n",
              "      <th>EngagementSurvey</th>\n",
              "      <th>EmpSatisfaction</th>\n",
              "      <th>SpecialProjectsCount</th>\n",
              "      <th>DaysLateLast30</th>\n",
              "      <th>Absences</th>\n",
              "    </tr>\n",
              "  </thead>\n",
              "  <tbody>\n",
              "    <tr>\n",
              "      <th>count</th>\n",
              "      <td>311.000000</td>\n",
              "      <td>311.000000</td>\n",
              "      <td>311.000000</td>\n",
              "      <td>311.000000</td>\n",
              "      <td>311.000000</td>\n",
              "      <td>311.000000</td>\n",
              "      <td>311.000000</td>\n",
              "      <td>311.000000</td>\n",
              "      <td>311.000000</td>\n",
              "      <td>311.000000</td>\n",
              "      <td>311.000000</td>\n",
              "      <td>311.000000</td>\n",
              "      <td>303.000000</td>\n",
              "      <td>311.000000</td>\n",
              "      <td>311.000000</td>\n",
              "      <td>311.000000</td>\n",
              "      <td>311.000000</td>\n",
              "      <td>311.000000</td>\n",
              "    </tr>\n",
              "    <tr>\n",
              "      <th>mean</th>\n",
              "      <td>10156.000000</td>\n",
              "      <td>0.398714</td>\n",
              "      <td>0.810289</td>\n",
              "      <td>0.434084</td>\n",
              "      <td>2.392283</td>\n",
              "      <td>4.610932</td>\n",
              "      <td>2.977492</td>\n",
              "      <td>0.093248</td>\n",
              "      <td>69020.684887</td>\n",
              "      <td>0.334405</td>\n",
              "      <td>16.845659</td>\n",
              "      <td>6555.482315</td>\n",
              "      <td>14.570957</td>\n",
              "      <td>4.110000</td>\n",
              "      <td>3.890675</td>\n",
              "      <td>1.218650</td>\n",
              "      <td>0.414791</td>\n",
              "      <td>10.237942</td>\n",
              "    </tr>\n",
              "    <tr>\n",
              "      <th>std</th>\n",
              "      <td>89.922189</td>\n",
              "      <td>0.490423</td>\n",
              "      <td>0.943239</td>\n",
              "      <td>0.496435</td>\n",
              "      <td>1.794383</td>\n",
              "      <td>1.083487</td>\n",
              "      <td>0.587072</td>\n",
              "      <td>0.291248</td>\n",
              "      <td>25156.636930</td>\n",
              "      <td>0.472542</td>\n",
              "      <td>6.223419</td>\n",
              "      <td>16908.396884</td>\n",
              "      <td>8.078306</td>\n",
              "      <td>0.789938</td>\n",
              "      <td>0.909241</td>\n",
              "      <td>2.349421</td>\n",
              "      <td>1.294519</td>\n",
              "      <td>5.852596</td>\n",
              "    </tr>\n",
              "    <tr>\n",
              "      <th>min</th>\n",
              "      <td>10001.000000</td>\n",
              "      <td>0.000000</td>\n",
              "      <td>0.000000</td>\n",
              "      <td>0.000000</td>\n",
              "      <td>1.000000</td>\n",
              "      <td>1.000000</td>\n",
              "      <td>1.000000</td>\n",
              "      <td>0.000000</td>\n",
              "      <td>45046.000000</td>\n",
              "      <td>0.000000</td>\n",
              "      <td>1.000000</td>\n",
              "      <td>1013.000000</td>\n",
              "      <td>1.000000</td>\n",
              "      <td>1.120000</td>\n",
              "      <td>1.000000</td>\n",
              "      <td>0.000000</td>\n",
              "      <td>0.000000</td>\n",
              "      <td>1.000000</td>\n",
              "    </tr>\n",
              "    <tr>\n",
              "      <th>25%</th>\n",
              "      <td>10078.500000</td>\n",
              "      <td>0.000000</td>\n",
              "      <td>0.000000</td>\n",
              "      <td>0.000000</td>\n",
              "      <td>1.000000</td>\n",
              "      <td>5.000000</td>\n",
              "      <td>3.000000</td>\n",
              "      <td>0.000000</td>\n",
              "      <td>55501.500000</td>\n",
              "      <td>0.000000</td>\n",
              "      <td>18.000000</td>\n",
              "      <td>1901.500000</td>\n",
              "      <td>10.000000</td>\n",
              "      <td>3.690000</td>\n",
              "      <td>3.000000</td>\n",
              "      <td>0.000000</td>\n",
              "      <td>0.000000</td>\n",
              "      <td>5.000000</td>\n",
              "    </tr>\n",
              "    <tr>\n",
              "      <th>50%</th>\n",
              "      <td>10156.000000</td>\n",
              "      <td>0.000000</td>\n",
              "      <td>1.000000</td>\n",
              "      <td>0.000000</td>\n",
              "      <td>1.000000</td>\n",
              "      <td>5.000000</td>\n",
              "      <td>3.000000</td>\n",
              "      <td>0.000000</td>\n",
              "      <td>62810.000000</td>\n",
              "      <td>0.000000</td>\n",
              "      <td>19.000000</td>\n",
              "      <td>2132.000000</td>\n",
              "      <td>15.000000</td>\n",
              "      <td>4.280000</td>\n",
              "      <td>4.000000</td>\n",
              "      <td>0.000000</td>\n",
              "      <td>0.000000</td>\n",
              "      <td>10.000000</td>\n",
              "    </tr>\n",
              "    <tr>\n",
              "      <th>75%</th>\n",
              "      <td>10233.500000</td>\n",
              "      <td>1.000000</td>\n",
              "      <td>1.000000</td>\n",
              "      <td>1.000000</td>\n",
              "      <td>5.000000</td>\n",
              "      <td>5.000000</td>\n",
              "      <td>3.000000</td>\n",
              "      <td>0.000000</td>\n",
              "      <td>72036.000000</td>\n",
              "      <td>1.000000</td>\n",
              "      <td>20.000000</td>\n",
              "      <td>2355.000000</td>\n",
              "      <td>19.000000</td>\n",
              "      <td>4.700000</td>\n",
              "      <td>5.000000</td>\n",
              "      <td>0.000000</td>\n",
              "      <td>0.000000</td>\n",
              "      <td>15.000000</td>\n",
              "    </tr>\n",
              "    <tr>\n",
              "      <th>max</th>\n",
              "      <td>10311.000000</td>\n",
              "      <td>1.000000</td>\n",
              "      <td>4.000000</td>\n",
              "      <td>1.000000</td>\n",
              "      <td>5.000000</td>\n",
              "      <td>6.000000</td>\n",
              "      <td>4.000000</td>\n",
              "      <td>1.000000</td>\n",
              "      <td>250000.000000</td>\n",
              "      <td>1.000000</td>\n",
              "      <td>30.000000</td>\n",
              "      <td>98052.000000</td>\n",
              "      <td>39.000000</td>\n",
              "      <td>5.000000</td>\n",
              "      <td>5.000000</td>\n",
              "      <td>8.000000</td>\n",
              "      <td>6.000000</td>\n",
              "      <td>20.000000</td>\n",
              "    </tr>\n",
              "  </tbody>\n",
              "</table>\n",
              "</div>\n",
              "      <button class=\"colab-df-convert\" onclick=\"convertToInteractive('df-6bd7d7b0-e495-434c-b6a0-cfaeeee4ed30')\"\n",
              "              title=\"Convert this dataframe to an interactive table.\"\n",
              "              style=\"display:none;\">\n",
              "        \n",
              "  <svg xmlns=\"http://www.w3.org/2000/svg\" height=\"24px\"viewBox=\"0 0 24 24\"\n",
              "       width=\"24px\">\n",
              "    <path d=\"M0 0h24v24H0V0z\" fill=\"none\"/>\n",
              "    <path d=\"M18.56 5.44l.94 2.06.94-2.06 2.06-.94-2.06-.94-.94-2.06-.94 2.06-2.06.94zm-11 1L8.5 8.5l.94-2.06 2.06-.94-2.06-.94L8.5 2.5l-.94 2.06-2.06.94zm10 10l.94 2.06.94-2.06 2.06-.94-2.06-.94-.94-2.06-.94 2.06-2.06.94z\"/><path d=\"M17.41 7.96l-1.37-1.37c-.4-.4-.92-.59-1.43-.59-.52 0-1.04.2-1.43.59L10.3 9.45l-7.72 7.72c-.78.78-.78 2.05 0 2.83L4 21.41c.39.39.9.59 1.41.59.51 0 1.02-.2 1.41-.59l7.78-7.78 2.81-2.81c.8-.78.8-2.07 0-2.86zM5.41 20L4 18.59l7.72-7.72 1.47 1.35L5.41 20z\"/>\n",
              "  </svg>\n",
              "      </button>\n",
              "      \n",
              "  <style>\n",
              "    .colab-df-container {\n",
              "      display:flex;\n",
              "      flex-wrap:wrap;\n",
              "      gap: 12px;\n",
              "    }\n",
              "\n",
              "    .colab-df-convert {\n",
              "      background-color: #E8F0FE;\n",
              "      border: none;\n",
              "      border-radius: 50%;\n",
              "      cursor: pointer;\n",
              "      display: none;\n",
              "      fill: #1967D2;\n",
              "      height: 32px;\n",
              "      padding: 0 0 0 0;\n",
              "      width: 32px;\n",
              "    }\n",
              "\n",
              "    .colab-df-convert:hover {\n",
              "      background-color: #E2EBFA;\n",
              "      box-shadow: 0px 1px 2px rgba(60, 64, 67, 0.3), 0px 1px 3px 1px rgba(60, 64, 67, 0.15);\n",
              "      fill: #174EA6;\n",
              "    }\n",
              "\n",
              "    [theme=dark] .colab-df-convert {\n",
              "      background-color: #3B4455;\n",
              "      fill: #D2E3FC;\n",
              "    }\n",
              "\n",
              "    [theme=dark] .colab-df-convert:hover {\n",
              "      background-color: #434B5C;\n",
              "      box-shadow: 0px 1px 3px 1px rgba(0, 0, 0, 0.15);\n",
              "      filter: drop-shadow(0px 1px 2px rgba(0, 0, 0, 0.3));\n",
              "      fill: #FFFFFF;\n",
              "    }\n",
              "  </style>\n",
              "\n",
              "      <script>\n",
              "        const buttonEl =\n",
              "          document.querySelector('#df-6bd7d7b0-e495-434c-b6a0-cfaeeee4ed30 button.colab-df-convert');\n",
              "        buttonEl.style.display =\n",
              "          google.colab.kernel.accessAllowed ? 'block' : 'none';\n",
              "\n",
              "        async function convertToInteractive(key) {\n",
              "          const element = document.querySelector('#df-6bd7d7b0-e495-434c-b6a0-cfaeeee4ed30');\n",
              "          const dataTable =\n",
              "            await google.colab.kernel.invokeFunction('convertToInteractive',\n",
              "                                                     [key], {});\n",
              "          if (!dataTable) return;\n",
              "\n",
              "          const docLinkHtml = 'Like what you see? Visit the ' +\n",
              "            '<a target=\"_blank\" href=https://colab.research.google.com/notebooks/data_table.ipynb>data table notebook</a>'\n",
              "            + ' to learn more about interactive tables.';\n",
              "          element.innerHTML = '';\n",
              "          dataTable['output_type'] = 'display_data';\n",
              "          await google.colab.output.renderOutput(dataTable, element);\n",
              "          const docLink = document.createElement('div');\n",
              "          docLink.innerHTML = docLinkHtml;\n",
              "          element.appendChild(docLink);\n",
              "        }\n",
              "      </script>\n",
              "    </div>\n",
              "  </div>\n",
              "  "
            ]
          },
          "metadata": {},
          "execution_count": 495
        }
      ]
    },
    {
      "cell_type": "markdown",
      "source": [
        "![image.png](data:image/png;base64,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)"
      ],
      "metadata": {
        "id": "ECpqt8uMfKUp"
      }
    },
    {
      "cell_type": "markdown",
      "source": [
        "**Responde las siguientes preguntas usando gráficas....**\n",
        "\n",
        "1. ¿Cuáles son las razones más frequentes para terminar el contrato de los empleados ? (Columna: TermReason) .... Observa los resultados y compara cierto valor con los valores nulos que existen en la columna DateofTermination, que notas? \n",
        "* Tip: puedes hacer un diagrama de barras, si necesitas que las etiquetas del eje x esten en posicion vertical para poder leerlas mejor utiliza ```plt.xticks(rotation='vertical')```"
      ],
      "metadata": {
        "id": "4JL_b0gtjHz9"
      }
    },
    {
      "cell_type": "code",
      "source": [
        "data.groupby('TermReason').size()"
      ],
      "metadata": {
        "colab": {
          "base_uri": "https://localhost:8080/"
        },
        "id": "Ghn4O1R9gnp2",
        "outputId": "cbe0eb74-1573-418f-ae2f-22dbfc141e20"
      },
      "execution_count": null,
      "outputs": [
        {
          "output_type": "execute_result",
          "data": {
            "text/plain": [
              "TermReason\n",
              "Another position                     20\n",
              "Fatal attraction                      1\n",
              "Learned that he is a gangster         1\n",
              "N/A-StillEmployed                   207\n",
              "attendance                            7\n",
              "career change                         9\n",
              "gross misconduct                      1\n",
              "hours                                 8\n",
              "maternity leave - did not return      3\n",
              "medical issues                        3\n",
              "military                              4\n",
              "more money                           11\n",
              "no-call, no-show                      4\n",
              "performance                           4\n",
              "relocation out of area                5\n",
              "retiring                              4\n",
              "return to school                      5\n",
              "unhappy                              14\n",
              "dtype: int64"
            ]
          },
          "metadata": {},
          "execution_count": 496
        }
      ]
    },
    {
      "cell_type": "code",
      "source": [
        "razones= data.groupby('TermReason').size()\n",
        " \n",
        "fig, ax = plt.subplots(figsize=(8,4)) # figsize: (ancho,alto) en pulgadas \n",
        "ax.bar(razones.index, razones.values)\n",
        " \n",
        "ax.set_ylabel('Frecuencia')\n",
        "ax.set_xlabel('Razones para despido')\n",
        " \n",
        "plt.xticks(rotation='vertical') #para que me muestre eje x mas claro\n",
        "plt.show()"
      ],
      "metadata": {
        "colab": {
          "base_uri": "https://localhost:8080/",
          "height": 432
        },
        "id": "s_2EEQ6ljl1l",
        "outputId": "228054fb-6ea0-4cf0-901e-39a19917048f"
      },
      "execution_count": null,
      "outputs": [
        {
          "output_type": "display_data",
          "data": {
            "text/plain": [
              "<Figure size 576x288 with 1 Axes>"
            ],
            "image/png": "[encoded data removed]"
          },
          "metadata": {
            "needs_background": "light"
          }
        }
      ]
    },
    {
      "cell_type": "markdown",
      "source": [
        "* Interpretando la grafica con logica, vemos que hay muchos empleados (207) que siguen con sus contratos de trabajo....pero entre los que se fueron del cargo, las razones mas frequentes son que la persona se movio a otro rol de trabajo o que era infeliz en el puesto.\n",
        "\n",
        "* Los 207 empleados no despedidos no deben tener ningun valor asignado (porque siguen en la empresa) en la columna DateofTermination y por eso existe la misma cantidad de valores nulos (207) en dicha columna"
      ],
      "metadata": {
        "id": "2MiVl2sufkwR"
      }
    },
    {
      "cell_type": "markdown",
      "source": [
        "2. ¿Consideras que esta empresa tiene bastante diversidad racial en los empleados? Columna: RaceDesc\n",
        "\n",
        "* Tip: puedes hacer un diagrama de barras, si necesitas que las etiquetas del eje x esten en posicion vertical para poder leerlas mejor utiliza ```plt.xticks(rotation='vertical')```"
      ],
      "metadata": {
        "id": "J7s3XPwtlVzl"
      }
    },
    {
      "cell_type": "code",
      "source": [
        "identidad_racial= data.groupby('RaceDesc').size()\n",
        " \n",
        "fig, ax = plt.subplots(figsize=(8,4)) # figsize: (ancho,alto) en pulgadas \n",
        "ax.bar(identidad_racial.index, identidad_racial.values)\n",
        " \n",
        "ax.set_ylabel('Frecuencia')\n",
        "ax.set_xlabel('Identidad')\n",
        " \n",
        "plt.xticks(rotation='vertical') #para que me muestre eje x mas claro\n",
        "plt.show()"
      ],
      "metadata": {
        "colab": {
          "base_uri": "https://localhost:8080/",
          "height": 441
        },
        "id": "b91jokOYjhR9",
        "outputId": "f4d7c5e2-629d-487b-e8a5-0fc9930952f4"
      },
      "execution_count": null,
      "outputs": [
        {
          "output_type": "display_data",
          "data": {
            "text/plain": [
              "<Figure size 576x288 with 1 Axes>"
            ],
            "image/png": "[encoded data removed]"
          },
          "metadata": {
            "needs_background": "light"
          }
        }
      ]
    },
    {
      "cell_type": "markdown",
      "source": [
        "La mayoria de los empleados son caucasicos, tal vez podrian invertir mas en estrategias para contrataciones diversas"
      ],
      "metadata": {
        "id": "YkboM1gXhORC"
      }
    },
    {
      "cell_type": "markdown",
      "source": [
        "3. Crea un histograma de salarios (Columna:Salary) para genero masculino (GenderID=1) y otro para genero femenino (GenderID=0). Ves diferencias en términos generales?\n",
        "\n",
        "* Tip: Si quieres ver diferencias puedes crear bins o rangos, como en este [ejemplo](https://colab.research.google.com/drive/1a29Q8FZZ3PCkoI0bgtee_H53tZqk4kcx#scrollTo=Wx9sStYQJghU&line=2&uniqifier=1) , puedes reemplazar la seccion de bins por una lista como ```bins=[40000,70000,100000,130000,160000,190000]```"
      ],
      "metadata": {
        "id": "f7Y0yx1LmawU"
      }
    },
    {
      "cell_type": "code",
      "source": [
        "masc=data.loc[data.GenderID==1,'Salary']\n",
        " \n",
        "fig, ax = plt.subplots(figsize=(10,6))\n",
        "n, bins, patches=ax.hist(x=masc.values, bins=[40000,70000,100000,130000,160000,190000]) #divido en 8 intervalos\n",
        "ax.set_xlabel('Salario')\n",
        "ax.set_ylabel('Frecuencia')\n",
        "ax.set_title('Histograma de Salario: Genero masculino')\n",
        "plt.xticks(bins)\n",
        "plt.show()"
      ],
      "metadata": {
        "colab": {
          "base_uri": "https://localhost:8080/",
          "height": 411
        },
        "id": "-LEhxF6vl73V",
        "outputId": "fe9d83ab-6d89-480e-be6d-cffb1ad1ecb3"
      },
      "execution_count": null,
      "outputs": [
        {
          "output_type": "display_data",
          "data": {
            "text/plain": [
              "<Figure size 720x432 with 1 Axes>"
            ],
            "image/png": "[encoded data removed]"
          },
          "metadata": {
            "needs_background": "light"
          }
        }
      ]
    },
    {
      "cell_type": "code",
      "source": [
        "feme=data.loc[data.GenderID==0,'Salary']\n",
        " \n",
        "fig, ax = plt.subplots(figsize=(10,6))\n",
        "n, bins, patches=ax.hist(x=feme.values, bins=[40000,70000,100000,130000,160000,190000])\n",
        "ax.set_xlabel('Salario')\n",
        "ax.set_ylabel('Frecuencia')\n",
        "ax.set_title('Histograma de Salario: Genero Femenino')\n",
        "plt.xticks(bins)\n",
        "plt.show()"
      ],
      "metadata": {
        "colab": {
          "base_uri": "https://localhost:8080/",
          "height": 411
        },
        "id": "igupnvbCmfp3",
        "outputId": "78c0db11-e0dd-4a0f-908d-0ee7644df12e"
      },
      "execution_count": null,
      "outputs": [
        {
          "output_type": "display_data",
          "data": {
            "text/plain": [
              "<Figure size 720x432 with 1 Axes>"
            ],
            "image/png": "[encoded data removed]"
          },
          "metadata": {
            "needs_background": "light"
          }
        }
      ]
    },
    {
      "cell_type": "markdown",
      "source": [
        "Existen diferencias en cantidades de hombres vs mujeres que estan tanto en los rangos mas bajos de salario como los mas altos."
      ],
      "metadata": {
        "id": "JRNmWBYZhjso"
      }
    },
    {
      "cell_type": "markdown",
      "source": [
        "4. Dirías que EN PROPORCIÓN la mayoria de empleados fueron encontrados en Ferias de Diversidad laboral? Columna: FromDiversityJobFairID\n",
        "\n",
        "* 0: empleado no viene de dicha feria, 1:empleado fue conocido en dicha feria"
      ],
      "metadata": {
        "id": "OVCxJhPqqNfW"
      }
    },
    {
      "cell_type": "code",
      "source": [
        " \n",
        "f_diver=data.groupby('FromDiversityJobFairID').size()\n",
        " \n",
        "fig,ax = plt.subplots(figsize =(10, 6))\n",
        "ax.pie(f_diver.values, labels=f_diver.index,\n",
        "       autopct='%1.1f%%',\n",
        "       textprops={'fontsize': 18}) #el label es el nombre del departamento\n",
        " \n",
        "plt.show()\n"
      ],
      "metadata": {
        "colab": {
          "base_uri": "https://localhost:8080/",
          "height": 357
        },
        "id": "hv5JGPvQqvdm",
        "outputId": "8b893e82-002a-43e7-86a9-6875c86e3abf"
      },
      "execution_count": null,
      "outputs": [
        {
          "output_type": "display_data",
          "data": {
            "text/plain": [
              "<Figure size 720x432 with 1 Axes>"
            ],
            "image/png": "[encoded data removed]"
          },
          "metadata": {}
        }
      ]
    },
    {
      "cell_type": "markdown",
      "source": [
        "Muy pocos empleados, solo el 9.3% fueron reclutados a traves de ferias de diversidad laboral"
      ],
      "metadata": {
        "id": "84ltNdftiDbI"
      }
    },
    {
      "cell_type": "markdown",
      "source": [
        "**Responde las siguientes preguntas sin gráficas...**"
      ],
      "metadata": {
        "id": "E-wywhYjt1v9"
      }
    },
    {
      "cell_type": "markdown",
      "source": [
        "5. Qué podemos ver en los resumenes estadísticos para las columnas EngagementSurvey y EmpSatisfaction? \n",
        "Asumiendo que 1 es una mala calificación y 5 la mejor calificación...\n",
        "* cuáles fueron los valores promedio de cada una? \n",
        "* Si observaramos sólamente la mediana, cuál métrica tuvo mejores resultados?"
      ],
      "metadata": {
        "id": "QM5bdurarZg-"
      }
    },
    {
      "cell_type": "code",
      "source": [
        "data[['EngagementSurvey','EmpSatisfaction']].describe()"
      ],
      "metadata": {
        "colab": {
          "base_uri": "https://localhost:8080/",
          "height": 300
        },
        "id": "Wsmr5gYRm7AF",
        "outputId": "a0ced8ef-d7ec-4cfe-a6e6-7c8b66663cf3"
      },
      "execution_count": null,
      "outputs": [
        {
          "output_type": "execute_result",
          "data": {
            "text/plain": [
              "       EngagementSurvey  EmpSatisfaction\n",
              "count        311.000000       311.000000\n",
              "mean           4.110000         3.890675\n",
              "std            0.789938         0.909241\n",
              "min            1.120000         1.000000\n",
              "25%            3.690000         3.000000\n",
              "50%            4.280000         4.000000\n",
              "75%            4.700000         5.000000\n",
              "max            5.000000         5.000000"
            ],
            "text/html": [
              "\n",
              "  <div id=\"df-aafd67ae-adf0-429b-b88d-1dd2ec3a7ad3\">\n",
              "    <div class=\"colab-df-container\">\n",
              "      <div>\n",
              "<style scoped>\n",
              "    .dataframe tbody tr th:only-of-type {\n",
              "        vertical-align: middle;\n",
              "    }\n",
              "\n",
              "    .dataframe tbody tr th {\n",
              "        vertical-align: top;\n",
              "    }\n",
              "\n",
              "    .dataframe thead th {\n",
              "        text-align: right;\n",
              "    }\n",
              "</style>\n",
              "<table border=\"1\" class=\"dataframe\">\n",
              "  <thead>\n",
              "    <tr style=\"text-align: right;\">\n",
              "      <th></th>\n",
              "      <th>EngagementSurvey</th>\n",
              "      <th>EmpSatisfaction</th>\n",
              "    </tr>\n",
              "  </thead>\n",
              "  <tbody>\n",
              "    <tr>\n",
              "      <th>count</th>\n",
              "      <td>311.000000</td>\n",
              "      <td>311.000000</td>\n",
              "    </tr>\n",
              "    <tr>\n",
              "      <th>mean</th>\n",
              "      <td>4.110000</td>\n",
              "      <td>3.890675</td>\n",
              "    </tr>\n",
              "    <tr>\n",
              "      <th>std</th>\n",
              "      <td>0.789938</td>\n",
              "      <td>0.909241</td>\n",
              "    </tr>\n",
              "    <tr>\n",
              "      <th>min</th>\n",
              "      <td>1.120000</td>\n",
              "      <td>1.000000</td>\n",
              "    </tr>\n",
              "    <tr>\n",
              "      <th>25%</th>\n",
              "      <td>3.690000</td>\n",
              "      <td>3.000000</td>\n",
              "    </tr>\n",
              "    <tr>\n",
              "      <th>50%</th>\n",
              "      <td>4.280000</td>\n",
              "      <td>4.000000</td>\n",
              "    </tr>\n",
              "    <tr>\n",
              "      <th>75%</th>\n",
              "      <td>4.700000</td>\n",
              "      <td>5.000000</td>\n",
              "    </tr>\n",
              "    <tr>\n",
              "      <th>max</th>\n",
              "      <td>5.000000</td>\n",
              "      <td>5.000000</td>\n",
              "    </tr>\n",
              "  </tbody>\n",
              "</table>\n",
              "</div>\n",
              "      <button class=\"colab-df-convert\" onclick=\"convertToInteractive('df-aafd67ae-adf0-429b-b88d-1dd2ec3a7ad3')\"\n",
              "              title=\"Convert this dataframe to an interactive table.\"\n",
              "              style=\"display:none;\">\n",
              "        \n",
              "  <svg xmlns=\"http://www.w3.org/2000/svg\" height=\"24px\"viewBox=\"0 0 24 24\"\n",
              "       width=\"24px\">\n",
              "    <path d=\"M0 0h24v24H0V0z\" fill=\"none\"/>\n",
              "    <path d=\"M18.56 5.44l.94 2.06.94-2.06 2.06-.94-2.06-.94-.94-2.06-.94 2.06-2.06.94zm-11 1L8.5 8.5l.94-2.06 2.06-.94-2.06-.94L8.5 2.5l-.94 2.06-2.06.94zm10 10l.94 2.06.94-2.06 2.06-.94-2.06-.94-.94-2.06-.94 2.06-2.06.94z\"/><path d=\"M17.41 7.96l-1.37-1.37c-.4-.4-.92-.59-1.43-.59-.52 0-1.04.2-1.43.59L10.3 9.45l-7.72 7.72c-.78.78-.78 2.05 0 2.83L4 21.41c.39.39.9.59 1.41.59.51 0 1.02-.2 1.41-.59l7.78-7.78 2.81-2.81c.8-.78.8-2.07 0-2.86zM5.41 20L4 18.59l7.72-7.72 1.47 1.35L5.41 20z\"/>\n",
              "  </svg>\n",
              "      </button>\n",
              "      \n",
              "  <style>\n",
              "    .colab-df-container {\n",
              "      display:flex;\n",
              "      flex-wrap:wrap;\n",
              "      gap: 12px;\n",
              "    }\n",
              "\n",
              "    .colab-df-convert {\n",
              "      background-color: #E8F0FE;\n",
              "      border: none;\n",
              "      border-radius: 50%;\n",
              "      cursor: pointer;\n",
              "      display: none;\n",
              "      fill: #1967D2;\n",
              "      height: 32px;\n",
              "      padding: 0 0 0 0;\n",
              "      width: 32px;\n",
              "    }\n",
              "\n",
              "    .colab-df-convert:hover {\n",
              "      background-color: #E2EBFA;\n",
              "      box-shadow: 0px 1px 2px rgba(60, 64, 67, 0.3), 0px 1px 3px 1px rgba(60, 64, 67, 0.15);\n",
              "      fill: #174EA6;\n",
              "    }\n",
              "\n",
              "    [theme=dark] .colab-df-convert {\n",
              "      background-color: #3B4455;\n",
              "      fill: #D2E3FC;\n",
              "    }\n",
              "\n",
              "    [theme=dark] .colab-df-convert:hover {\n",
              "      background-color: #434B5C;\n",
              "      box-shadow: 0px 1px 3px 1px rgba(0, 0, 0, 0.15);\n",
              "      filter: drop-shadow(0px 1px 2px rgba(0, 0, 0, 0.3));\n",
              "      fill: #FFFFFF;\n",
              "    }\n",
              "  </style>\n",
              "\n",
              "      <script>\n",
              "        const buttonEl =\n",
              "          document.querySelector('#df-aafd67ae-adf0-429b-b88d-1dd2ec3a7ad3 button.colab-df-convert');\n",
              "        buttonEl.style.display =\n",
              "          google.colab.kernel.accessAllowed ? 'block' : 'none';\n",
              "\n",
              "        async function convertToInteractive(key) {\n",
              "          const element = document.querySelector('#df-aafd67ae-adf0-429b-b88d-1dd2ec3a7ad3');\n",
              "          const dataTable =\n",
              "            await google.colab.kernel.invokeFunction('convertToInteractive',\n",
              "                                                     [key], {});\n",
              "          if (!dataTable) return;\n",
              "\n",
              "          const docLinkHtml = 'Like what you see? Visit the ' +\n",
              "            '<a target=\"_blank\" href=https://colab.research.google.com/notebooks/data_table.ipynb>data table notebook</a>'\n",
              "            + ' to learn more about interactive tables.';\n",
              "          element.innerHTML = '';\n",
              "          dataTable['output_type'] = 'display_data';\n",
              "          await google.colab.output.renderOutput(dataTable, element);\n",
              "          const docLink = document.createElement('div');\n",
              "          docLink.innerHTML = docLinkHtml;\n",
              "          element.appendChild(docLink);\n",
              "        }\n",
              "      </script>\n",
              "    </div>\n",
              "  </div>\n",
              "  "
            ]
          },
          "metadata": {},
          "execution_count": 502
        }
      ]
    },
    {
      "cell_type": "markdown",
      "source": [
        "Los promedios los vemos en la fila 'mean' y si nos fijaramos solo en la mediana, los mejores resultados fueron de la EngagementSurvey (fila etiquetada como 50%)"
      ],
      "metadata": {
        "id": "k3G9alYBiTD0"
      }
    },
    {
      "cell_type": "markdown",
      "source": [
        "6. ¿Cuáles áreas (columna: Department) tienen el mejor puntaje de desempeño promedio (PerfScoreID) ?\n"
      ],
      "metadata": {
        "id": "76UkCnAxtwtE"
      }
    },
    {
      "cell_type": "code",
      "source": [
        "data.groupby('Department')['PerfScoreID'].mean()\n",
        "\n",
        "###las areas con mejores promedios en PerfScoreID son: Software Engineering y IT/IS"
      ],
      "metadata": {
        "colab": {
          "base_uri": "https://localhost:8080/"
        },
        "id": "Ecu6Wt7Mtmgv",
        "outputId": "642adbf3-d2c1-4aab-ba74-5693e9380ba2"
      },
      "execution_count": null,
      "outputs": [
        {
          "output_type": "execute_result",
          "data": {
            "text/plain": [
              "Department\n",
              "Admin Offices           3.000000\n",
              "Executive Office        3.000000\n",
              "IT/IS                   3.060000\n",
              "Production              2.971292\n",
              "Sales                   2.838710\n",
              "Software Engineering    3.090909\n",
              "Name: PerfScoreID, dtype: float64"
            ]
          },
          "metadata": {},
          "execution_count": 503
        }
      ]
    },
    {
      "cell_type": "markdown",
      "source": [
        "7. ¿Cuáles áreas (columna:Department) tienen los mejores salarios en promedio?\n"
      ],
      "metadata": {
        "id": "T6WJpI_duXR9"
      }
    },
    {
      "cell_type": "code",
      "source": [
        "data.groupby('Department')['Salary'].mean().sort_values(ascending=False) #sort_values(ascending=False), permite ordenar de mayor a menor los resultados\n",
        "\n",
        "\n",
        "###las areas con mejores salarios en promedio son: Executive Office, IT/IS y Software Engineering"
      ],
      "metadata": {
        "colab": {
          "base_uri": "https://localhost:8080/"
        },
        "id": "L2Pgj39CuTQv",
        "outputId": "33ba5206-b671-4393-a632-327ff94fb462"
      },
      "execution_count": null,
      "outputs": [
        {
          "output_type": "execute_result",
          "data": {
            "text/plain": [
              "Department\n",
              "Executive Office        250000.000000\n",
              "IT/IS                    97064.640000\n",
              "Software Engineering     94989.454545\n",
              "Admin Offices            71791.888889\n",
              "Sales                    69061.258065\n",
              "Production               59953.545455\n",
              "Name: Salary, dtype: float64"
            ]
          },
          "metadata": {},
          "execution_count": 504
        }
      ]
    },
    {
      "cell_type": "code",
      "source": [],
      "metadata": {
        "id": "lsNvYRDAjFqS"
      },
      "execution_count": null,
      "outputs": []
    },
    {
      "cell_type": "markdown",
      "source": [
        "# Preguntas adicionales de la clase"
      ],
      "metadata": {
        "id": "ykQvu1_OSyrG"
      }
    },
    {
      "cell_type": "markdown",
      "source": [
        "**¿Cómo le agrego etiquetas de números a bar plot?**\n",
        "\n",
        "Si quieres entender comando zip que se usa en siguiente celda mira: https://www.w3schools.com/python/ref_func_zip.asp o https://ellibrodepython.com/zip-python"
      ],
      "metadata": {
        "id": "gq26kdpmS2DP"
      }
    },
    {
      "cell_type": "code",
      "source": [
        "fig, ax = plt.subplots(figsize=(8,4)) # figsize: (ancho,alto) en pulgadas \n",
        "ax.bar(sobrevivientes.index, sobrevivientes.values)\n",
        "\n",
        "ax.set_ylabel('Frecuencia')\n",
        "ax.set_xlabel('Categoría: 0=no sobrevivieron, 1=si sobrevivieron')\n",
        "\n",
        "plt.xticks(np.arange(0, 2, step=1)) #para que me muestre eje x mas claro\n",
        "\n",
        "#PARA AGREGAR ETIQUETA CON EL VALOR NUMERICO SOBRE LAS BARRAS:\n",
        "for x, y in zip(sobrevivientes.index, sobrevivientes.values):\n",
        " plt.annotate(y, (x, y))\n",
        "\n",
        "plt.show()"
      ],
      "metadata": {
        "colab": {
          "base_uri": "https://localhost:8080/",
          "height": 285
        },
        "id": "dzLlWSUMS0IC",
        "outputId": "8b84f43b-af1c-46b0-ee56-b2a801c96902"
      },
      "execution_count": null,
      "outputs": [
        {
          "output_type": "display_data",
          "data": {
            "text/plain": [
              "<Figure size 576x288 with 1 Axes>"
            ],
            "image/png": "[encoded data removed]"
          },
          "metadata": {
            "needs_background": "light"
          }
        }
      ]
    },
    {
      "cell_type": "markdown",
      "source": [
        "**¿Cómo le agrego etiquetas de números a diagrama de lineas (del ejemplo que vimos hoy que era mas avanzado)?**\n",
        "\n",
        "Puedes:\n",
        "\n",
        "1. Crear una funcion \n",
        "```\n",
        "def funcion_agregar_etiquetas(valores_eje_x,valores_eje_y):\n",
        "    for x, y in zip(valores_eje_x, valores_eje_y):\n",
        "      plt.annotate(y, (x, y))\n",
        "```\n",
        "Como mencione antes, si quieres entender comando zip que se usa aqui mira: https://www.w3schools.com/python/ref_func_zip.asp o https://ellibrodepython.com/zip-python\n",
        "\n",
        "2. Pasarle los valores de los ejes (x) y (y) para cada caso\n",
        "\n",
        "\n"
      ],
      "metadata": {
        "id": "wyK9vPsWVcMA"
      }
    },
    {
      "cell_type": "code",
      "source": [
        "fig, ax = plt.subplots(figsize=(10,9)) # figsize: (ancho,alto) en pulgadas \n",
        "\n",
        "ax.plot(clase_tiquete.loc[clase_tiquete['Sex']=='female','Pclass'], \n",
        "        clase_tiquete.loc[clase_tiquete['Sex']=='female','conteo'], \n",
        "        label='mujeres',color='magenta')\n",
        "\n",
        "ax.plot(clase_tiquete.loc[clase_tiquete['Sex']=='male','Pclass'], \n",
        "        clase_tiquete.loc[clase_tiquete['Sex']=='male','conteo'], \n",
        "        label='hombres', color='red')\n",
        "\n",
        "ax.legend() #mostrando mi cajita de etiquetas para cada linea\n",
        "plt.xticks(np.arange(1, 4, step=1)) #para que me muestre eje x mas claro\n",
        "\n",
        "#PARA AGREGAR ETIQUETA CON EL VALOR NUMERICO SOBRE CADA LINEA:\n",
        "def funcion_agregar_etiquetas(valores_eje_x,valores_eje_y):\n",
        "  for x, y in zip(valores_eje_x, valores_eje_y):\n",
        "    plt.annotate(y, (x, y))\n",
        "\n",
        "#enviar valores de linea mujeres\n",
        "funcion_agregar_etiquetas(clase_tiquete.loc[clase_tiquete['Sex']=='female','Pclass'],\n",
        "                          clase_tiquete.loc[clase_tiquete['Sex']=='female','conteo'])\n",
        "\n",
        "#enviar valores de linea hombres\n",
        "funcion_agregar_etiquetas(clase_tiquete.loc[clase_tiquete['Sex']=='male','Pclass'],\n",
        "                          clase_tiquete.loc[clase_tiquete['Sex']=='male','conteo'])\n",
        "\n",
        "plt.show()"
      ],
      "metadata": {
        "colab": {
          "base_uri": "https://localhost:8080/",
          "height": 537
        },
        "id": "deOi6AKNTGgo",
        "outputId": "e60f5816-90cc-4247-b31d-0117849ba51f"
      },
      "execution_count": null,
      "outputs": [
        {
          "output_type": "display_data",
          "data": {
            "text/plain": [
              "<Figure size 720x648 with 1 Axes>"
            ],
            "image/png": "[encoded data removed]"
          },
          "metadata": {
            "needs_background": "light"
          }
        }
      ]
    },
    {
      "cell_type": "markdown",
      "source": [
        "**Conversion de datos de series de tiempo de un formato a otro**\n",
        "\n",
        "Ejemplo: Cómo convierto formato de datos de dd/mm/yyyy a yyyy/mm?\n",
        "\n",
        "[Material complementario](https://www.geeksforgeeks.org/python-strftime-function/)"
      ],
      "metadata": {
        "id": "_RlcbN9ncNEr"
      }
    },
    {
      "cell_type": "code",
      "source": [
        "fecha_inicial = pd.to_datetime('03/01/2020',dayfirst=True) #la conversion a tipo datetime, desde un string con formato dd/mm/yyyy\n",
        "\n",
        "print('tengo una fecha en tipo timestamp que es: ',fecha_inicial)\n",
        "\n",
        "fecha_modificada = fecha_inicial.strftime('%m/%y') #aca le decimos que queremos el siguiente formato mm/yy\n",
        "\n",
        "print()\n",
        "print('luego la modifico a un formato diferente y queda:',fecha_modificada)"
      ],
      "metadata": {
        "colab": {
          "base_uri": "https://localhost:8080/"
        },
        "id": "HJuJQeZTWCch",
        "outputId": "2e824874-ac79-4394-cbef-1983de4ac0c9"
      },
      "execution_count": null,
      "outputs": [
        {
          "output_type": "stream",
          "name": "stdout",
          "text": [
            "tengo una fecha en tipo timestamp que es:  2020-01-03 00:00:00\n",
            "\n",
            "luego la modifico a un formato diferente y queda: 01/20\n"
          ]
        }
      ]
    },
    {
      "cell_type": "code",
      "source": [],
      "metadata": {
        "id": "Nbso5tCNeeWM"
      },
      "execution_count": null,
      "outputs": []
    }
  ]
}